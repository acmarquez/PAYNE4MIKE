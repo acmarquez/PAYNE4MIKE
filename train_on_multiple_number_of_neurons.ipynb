{
 "cells": [
  {
   "cell_type": "code",
   "execution_count": 1,
   "metadata": {},
   "outputs": [],
   "source": [
    "from sklearn.model_selection import train_test_split\n",
    "from The_Payne import training\n",
    "from The_Payne import utils\n",
    "\n",
    "# import numpy as np\n",
    "# import os\n",
    "import matplotlib.pyplot as plt\n",
    "\n",
    "# import torch\n",
    "# import pandas as pd\n",
    "# import timeit\n",
    "# import multiprocessing as mp"
   ]
  },
  {
   "cell_type": "code",
   "execution_count": 2,
   "metadata": {},
   "outputs": [],
   "source": [
    "# Convert GPU Memory left (Byte-converter)\n",
    "def format_bytes(size):\n",
    "    # 2**10 = 1024\n",
    "    power = 2**10\n",
    "    n = 0\n",
    "    power_labels = {0 : '', 1: 'kilo', 2: 'mega', 3: 'giga', 4: 'tera'}\n",
    "    while size > power:\n",
    "        size /= power\n",
    "        n += 1\n",
    "    return size, power_labels[n]+'bytes'"
   ]
  },
  {
   "cell_type": "code",
   "execution_count": 3,
   "metadata": {},
   "outputs": [
    {
     "ename": "NameError",
     "evalue": "name 'mp' is not defined",
     "output_type": "error",
     "traceback": [
      "\u001b[1;31m---------------------------------------------------------------------------\u001b[0m",
      "\u001b[1;31mNameError\u001b[0m                                 Traceback (most recent call last)",
      "\u001b[1;32m<ipython-input-3-800351b0e567>\u001b[0m in \u001b[0;36m<module>\u001b[1;34m\u001b[0m\n\u001b[1;32m----> 1\u001b[1;33m \u001b[0mprint\u001b[0m\u001b[1;33m(\u001b[0m\u001b[1;34m\"Number of processors: \"\u001b[0m\u001b[1;33m,\u001b[0m \u001b[0mmp\u001b[0m\u001b[1;33m.\u001b[0m\u001b[0mcpu_count\u001b[0m\u001b[1;33m(\u001b[0m\u001b[1;33m)\u001b[0m\u001b[1;33m)\u001b[0m\u001b[1;33m\u001b[0m\u001b[1;33m\u001b[0m\u001b[0m\n\u001b[0m",
      "\u001b[1;31mNameError\u001b[0m: name 'mp' is not defined"
     ]
    }
   ],
   "source": [
    "print(\"Number of processors: \", mp.cpu_count())"
   ]
  },
  {
   "cell_type": "code",
   "execution_count": null,
   "metadata": {},
   "outputs": [],
   "source": [
    "spectra =np.load('reduced_spectra_final.npy')\n",
    "labels =np.load('full_labels.npy')"
   ]
  },
  {
   "cell_type": "code",
   "execution_count": null,
   "metadata": {},
   "outputs": [],
   "source": [
    "training_labels, validation_labels, training_spectra, validation_spectra = train_test_split(labels, spectra, test_size=0.2, random_state=2)"
   ]
  },
  {
   "cell_type": "code",
   "execution_count": null,
   "metadata": {},
   "outputs": [],
   "source": [
    "print(training_labels.shape) \n",
    "print(training_spectra.shape)\n",
    "print(validation_labels.shape)\n",
    "print(validation_spectra.shape)"
   ]
  },
  {
   "cell_type": "markdown",
   "metadata": {},
   "source": [
    "$Max batch size= (available GPUmemory(bytes) / 4) / (size of tensors + trainable parameters)$"
   ]
  },
  {
   "cell_type": "code",
   "execution_count": null,
   "metadata": {},
   "outputs": [],
   "source": [
    "number_of_neurons_list = range(100,600,200)"
   ]
  },
  {
   "cell_type": "code",
   "execution_count": null,
   "metadata": {},
   "outputs": [],
   "source": [
    "training_loss_list = []\n",
    "validation_loss_list = []\n",
    "time_to_train = []"
   ]
  },
  {
   "cell_type": "code",
   "execution_count": null,
   "metadata": {},
   "outputs": [],
   "source": [
    "# start = time.clock()\n",
    "print(\"Linear Model with 2 hidden layers\")\n",
    "for neuron in number_of_neurons_list:\n",
    "    start = timeit.default_timer()\n",
    "    print(\"====================== Number of Neurons: \", neuron,\"============================\")\n",
    "    \n",
    "    \n",
    "    \n",
    "    training.neural_net(training_labels, training_spectra,\\\n",
    "                    validation_labels, validation_spectra,\\\n",
    "                    number_of_neurons=number_of_neurons_list, learning_rate=1e-4,\\\n",
    "                    number_of_steps=300, batch_size=512)\n",
    "    \n",
    "    \n",
    "    \n",
    "    \n",
    "    \n",
    "    \n",
    "    \n",
    "    \n",
    "    \n",
    "    stop = timeit.default_timer()\n",
    "    elapsed = stop - start\n",
    "    print(\"Time to train: \",elapsed)\n",
    "    #load time into list for dataframe\n",
    "    \n",
    "    \n",
    "    \n",
    "    \n",
    "    time_to_train.append(elapsed)\n",
    "    #load training and validation losses for dataframe\n",
    "    tmp = np.load(\"training_loss.npz\") # the output array also stores the training and validation loss\n",
    "    training_loss = tmp[\"training_loss\"]\n",
    "    validation_loss = tmp[\"validation_loss\"]\n",
    "    training_loss_list.append(training_loss[2])\n",
    "    validation_loss_list.append(validation_loss[2])"
   ]
  },
  {
   "cell_type": "code",
   "execution_count": null,
   "metadata": {},
   "outputs": [],
   "source": [
    "# tmp = np.load(\"training_loss.npz\") # the output array also stores the training and validation loss\n",
    "# training_loss = tmp[\"training_loss\"]\n",
    "# validation_loss = tmp[\"validation_loss\"]"
   ]
  },
  {
   "cell_type": "code",
   "execution_count": null,
   "metadata": {},
   "outputs": [],
   "source": [
    "training_validation_DF = pd.DataFrame()"
   ]
  },
  {
   "cell_type": "code",
   "execution_count": null,
   "metadata": {},
   "outputs": [],
   "source": [
    "time_to_train"
   ]
  },
  {
   "cell_type": "code",
   "execution_count": null,
   "metadata": {},
   "outputs": [],
   "source": [
    "#list comprehension\n",
    "time_to_train_mins = [i/60 for i in time_to_train]"
   ]
  },
  {
   "cell_type": "code",
   "execution_count": null,
   "metadata": {},
   "outputs": [],
   "source": [
    "training_validation_DF_2_layers['Number of Neurons'] = number_of_neurons_list\n",
    "training_validation_DF_2_layers['Training Loss'] = training_loss_list\n",
    "training_validation_DF_2_layers['Validation Loss'] = validation_loss_list\n",
    "training_validation_DF_2_layers['Time to Train(Seconds)'] = time_to_train\n",
    "training_validation_DF_2_layers['Time to Train(Minutes)'] = (time_to_train_mins)"
   ]
  },
  {
   "cell_type": "code",
   "execution_count": null,
   "metadata": {},
   "outputs": [],
   "source": [
    "training_validation_DF_2_layers"
   ]
  },
  {
   "cell_type": "code",
   "execution_count": null,
   "metadata": {},
   "outputs": [],
   "source": [
    "# t = torch.cuda.get_device_properties(0).total_memory\n",
    "# r = torch.cuda.memory_reserved(0) \n",
    "# a = torch.cuda.memory_allocated(0)\n",
    "# f = r-a  # free inside reserved"
   ]
  },
  {
   "cell_type": "code",
   "execution_count": null,
   "metadata": {},
   "outputs": [],
   "source": [
    "# print(\"GPU Memory Left: \", format_bytes(f))"
   ]
  },
  {
   "cell_type": "code",
   "execution_count": null,
   "metadata": {},
   "outputs": [],
   "source": [
    "# tmp = np.load(\"training_loss.npz\") # the output array also stores the training and validation loss\n",
    "# training_loss = tmp[\"training_loss\"]\n",
    "# validation_loss = tmp[\"validation_loss\"]\n",
    "\n",
    "# plt.figure(figsize=(14, 4))\n",
    "# plt.plot(np.arange(training_loss.size)*100, training_loss, 'k', lw=0.5, label = 'Training set')\n",
    "# plt.plot(np.arange(training_loss.size)*100, validation_loss, 'r', lw=0.5, label = 'Validation set')\n",
    "# plt.legend(loc = 'best', frameon = False, fontsize= 18)\n",
    "# plt.yscale('log')\n",
    "# plt.ylim([5,100])\n",
    "# plt.xlabel(\"Step\", size=20)\n",
    "# plt.ylabel(\"Loss\", size=20)"
   ]
  },
  {
   "cell_type": "code",
   "execution_count": null,
   "metadata": {},
   "outputs": [],
   "source": [
    "# print(\"Training Loss: \",training_loss[99],\" Validation Loss: \",validation_loss[99])"
   ]
  }
 ],
 "metadata": {
  "kernelspec": {
   "display_name": "Python 3",
   "language": "python",
   "name": "python3"
  },
  "language_info": {
   "codemirror_mode": {
    "name": "ipython",
    "version": 3
   },
   "file_extension": ".py",
   "mimetype": "text/x-python",
   "name": "python",
   "nbconvert_exporter": "python",
   "pygments_lexer": "ipython3",
   "version": "3.7.9"
  }
 },
 "nbformat": 4,
 "nbformat_minor": 4
}
