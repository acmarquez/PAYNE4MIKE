{
 "cells": [
  {
   "cell_type": "code",
   "execution_count": 1,
   "metadata": {},
   "outputs": [],
   "source": [
    "from sklearn.model_selection import train_test_split\n",
    "from The_Payne import training\n",
    "from The_Payne import utils\n",
    "\n",
    "import numpy as np\n",
    "import matplotlib.pyplot as plt\n",
    "import torch"
   ]
  },
  {
   "cell_type": "code",
   "execution_count": 2,
   "metadata": {},
   "outputs": [],
   "source": [
    "spectra =np.load('reduced_spectra_final.npy')\n",
    "labels =np.load('full_labels.npy')"
   ]
  },
  {
   "cell_type": "code",
   "execution_count": 3,
   "metadata": {},
   "outputs": [],
   "source": [
    "training_labels, validation_labels, training_spectra, validation_spectra = train_test_split(labels, spectra, test_size=0.2, random_state=2)"
   ]
  },
  {
   "cell_type": "code",
   "execution_count": 4,
   "metadata": {},
   "outputs": [
    {
     "name": "stdout",
     "output_type": "stream",
     "text": [
      "(15379, 5)\n",
      "(15379, 10001)\n",
      "(3845, 5)\n",
      "(3845, 10001)\n"
     ]
    }
   ],
   "source": [
    "print(training_labels.shape) \n",
    "print(training_spectra.shape)\n",
    "print(validation_labels.shape)\n",
    "print(validation_spectra.shape)"
   ]
  },
  {
   "cell_type": "code",
   "execution_count": 5,
   "metadata": {},
   "outputs": [],
   "source": [
    "torch.cuda.empty_cache()"
   ]
  },
  {
   "cell_type": "markdown",
   "metadata": {},
   "source": [
    "$Max batch size= (available GPUmemory(bytes) / 4) / (size of tensors + trainable parameters)$"
   ]
  },
  {
   "cell_type": "code",
   "execution_count": null,
   "metadata": {},
   "outputs": [
    {
     "name": "stderr",
     "output_type": "stream",
     "text": [
      "C:\\Users\\Allen\\Desktop\\4662 Project\\The Payne v3\\The_Payne\\radam.py:48: UserWarning: This overload of addcmul_ is deprecated:\n",
      "\taddcmul_(Number value, Tensor tensor1, Tensor tensor2)\n",
      "Consider using one of the following signatures instead:\n",
      "\taddcmul_(Tensor tensor1, Tensor tensor2, *, Number value) (Triggered internally at  ..\\torch\\csrc\\utils\\python_arg_parser.cpp:882.)\n",
      "  exp_avg_sq.mul_(beta2).addcmul_(1 - beta2, grad, grad)\n"
     ]
    },
    {
     "name": "stdout",
     "output_type": "stream",
     "text": [
      "iter 0: training loss = 7507.702 validation loss = 7650.001\n",
      "iter 100: training loss = 326.551 validation loss = 334.998\n",
      "iter 200: training loss = 194.036 validation loss = 200.473\n",
      "iter 300: training loss = 148.760 validation loss = 151.573\n",
      "iter 400: training loss = 128.517 validation loss = 127.764\n",
      "iter 500: training loss = 107.672 validation loss = 116.302\n",
      "iter 600: training loss = 99.168 validation loss = 109.591\n",
      "iter 700: training loss = 94.915 validation loss = 101.759\n",
      "iter 800: training loss = 93.494 validation loss = 97.945\n",
      "iter 900: training loss = 87.405 validation loss = 95.531\n",
      "iter 1000: training loss = 86.378 validation loss = 90.355\n",
      "iter 1100: training loss = 85.149 validation loss = 87.962\n",
      "iter 1200: training loss = 76.585 validation loss = 85.697\n",
      "iter 1300: training loss = 80.417 validation loss = 83.148\n",
      "iter 1400: training loss = 75.696 validation loss = 81.125\n",
      "iter 1500: training loss = 72.633 validation loss = 79.512\n",
      "iter 1600: training loss = 81.827 validation loss = 78.077\n",
      "iter 1700: training loss = 74.902 validation loss = 75.649\n",
      "iter 1800: training loss = 71.810 validation loss = 74.385\n",
      "iter 1900: training loss = 76.742 validation loss = 74.122\n"
     ]
    }
   ],
   "source": [
    "# training.neural_net(training_labels, training_spectra,\\\n",
    "#                     validation_labels, validation_spectra,\\\n",
    "#                     num_neurons=300, num_steps=1e4, learning_rate=1e-4,\\\n",
    "#                     batch_size=512)\n",
    "training.neural_net(training_labels, training_spectra,\\\n",
    "                    validation_labels, validation_spectra,\\\n",
    "                    num_neurons=300, learning_rate=1e-4,\\\n",
    "                    num_steps=1e4, batch_size=512)\n",
    "# a larger batch_size (e.g. 512) when possible is desirable\n",
    "# here we choose batch_size=128 above because the sample training set is limited in size\n",
    "\n",
    "stop = timeit.default_timer()\n",
    "\n",
    "print('Time: ', stop - start) "
   ]
  },
  {
   "cell_type": "code",
   "execution_count": null,
   "metadata": {},
   "outputs": [],
   "source": [
    "t = torch.cuda.get_device_properties(0).total_memory\n",
    "r = torch.cuda.memory_reserved(0) \n",
    "a = torch.cuda.memory_allocated(0)\n",
    "f = r-a  # free inside reserved"
   ]
  },
  {
   "cell_type": "code",
   "execution_count": null,
   "metadata": {},
   "outputs": [],
   "source": [
    "print(a)"
   ]
  },
  {
   "cell_type": "code",
   "execution_count": null,
   "metadata": {},
   "outputs": [],
   "source": [
    "tmp = np.load(\"training_loss.npz\") # the output array also stores the training and validation loss\n",
    "training_loss = tmp[\"training_loss\"]\n",
    "validation_loss = tmp[\"validation_loss\"]\n",
    "\n",
    "plt.figure(figsize=(14, 4))\n",
    "plt.plot(np.arange(training_loss.size)*100, training_loss, 'k', lw=0.5, label = 'Training set')\n",
    "plt.plot(np.arange(training_loss.size)*100, validation_loss, 'r', lw=0.5, label = 'Validation set')\n",
    "plt.legend(loc = 'best', frameon = False, fontsize= 18)\n",
    "plt.yscale('log')\n",
    "plt.ylim([5,100])\n",
    "plt.xlabel(\"Step\", size=20)\n",
    "plt.ylabel(\"Loss\", size=20)"
   ]
  },
  {
   "cell_type": "code",
   "execution_count": null,
   "metadata": {},
   "outputs": [],
   "source": [
    "print(\"Training Loss: \",training_loss[99],\" Validation Loss: \",validation_loss[99])"
   ]
  }
 ],
 "metadata": {
  "kernelspec": {
   "display_name": "Python 3",
   "language": "python",
   "name": "python3"
  },
  "language_info": {
   "codemirror_mode": {
    "name": "ipython",
    "version": 3
   },
   "file_extension": ".py",
   "mimetype": "text/x-python",
   "name": "python",
   "nbconvert_exporter": "python",
   "pygments_lexer": "ipython3",
   "version": "3.7.9"
  }
 },
 "nbformat": 4,
 "nbformat_minor": 4
}
