{
 "cells": [
  {
   "cell_type": "code",
   "execution_count": 1,
   "metadata": {},
   "outputs": [],
   "source": [
    "import numpy as np\n",
    "import os\n",
    "import pandas as pd"
   ]
  },
  {
   "cell_type": "code",
   "execution_count": 2,
   "metadata": {},
   "outputs": [],
   "source": [
    "path = os.getcwd()"
   ]
  },
  {
   "cell_type": "code",
   "execution_count": 3,
   "metadata": {},
   "outputs": [],
   "source": [
    "#path gets our current working directory and then adds the grid folder extension\n",
    "path = os.getcwd() + '\\\\ck04_grid'\n",
    "#listdir() returns a list containing the names of the entries in the directory given by path\n",
    "all_filenames_in_directory = os.listdir(path)\n",
    "#at the end of this all_filenames_in_directory will be a list with all the spectra filenames"
   ]
  },
  {
   "cell_type": "code",
   "execution_count": 4,
   "metadata": {},
   "outputs": [],
   "source": [
    "string_with_spectral_labels = []\n",
    "#this goes through every file in the directory\n",
    "for item in all_filenames_in_directory:\n",
    "    #create the string that extracts the spectral labels from filename\n",
    "    if \".npy\" in item:\n",
    "        string_with_spectral_labels.append('' + item[0:20] + '.npy' + '')"
   ]
  },
  {
   "cell_type": "code",
   "execution_count": null,
   "metadata": {},
   "outputs": [],
   "source": [
    "#now we have a list of strings with spectral labels with ~19k\n",
    "# ie. 'T3500_g00_v10_m05_a0.npy'"
   ]
  },
  {
   "cell_type": "markdown",
   "metadata": {},
   "source": [
    "#this will be our traning/validation labels\n",
    "#we are going to just treat each string as an identical length string and splice through the format Alex laidout\n",
    "#at the end of the function we convert the string to a list of 4 values representing a stars stellar labels\n",
    "def createLabels(list_of_labels):\n",
    "    main_list = []\n",
    "    for label in list_of_labels:\n",
    "        temp_lst = []\n",
    "        #teff\n",
    "        temp_lst.append(int(label[1:5]))\n",
    "        #logg\n",
    "        temp_lst.append(float(label[7]+ '.' +label[8]))\n",
    "        #vt\n",
    "        temp_lst.append(float(label[11]+ '.' +label[12]))\n",
    "        #metallicity\n",
    "        if (label[14] == 'p'):\n",
    "            temp_lst.append(float(label[15]+ '.' +label[16]))\n",
    "        elif(label[14] == 'm'):\n",
    "            temp_lst.append(float(label[15]+ '.' +label[16])*(-1))\n",
    "        #alpha\n",
    "        temp_lst.append(float('0'+ '.' +label[19]))\n",
    "        main_list.append(temp_lst)\n",
    "    return main_list"
   ]
  },
  {
   "cell_type": "code",
   "execution_count": null,
   "metadata": {},
   "outputs": [],
   "source": [
    "# labels_for_dataframe = createLabels(string_with_spectral_labels)"
   ]
  },
  {
   "cell_type": "code",
   "execution_count": null,
   "metadata": {},
   "outputs": [],
   "source": [
    "# now we need to extract the wavelength and flux from the .npy file"
   ]
  },
  {
   "cell_type": "code",
   "execution_count": 5,
   "metadata": {},
   "outputs": [],
   "source": [
    "# wavelength_list = []\n",
    "flux_list = []"
   ]
  },
  {
   "cell_type": "code",
   "execution_count": 6,
   "metadata": {},
   "outputs": [],
   "source": [
    "for file_name in all_filenames_in_directory:\n",
    "    #this is extremely memory heavy, barely made it with 128 GB of RAM, add numpy array in future iteration\n",
    "    tempSpectra = np.load('ck04_grid' + '\\\\'+ file_name)\n",
    "#     wavelength_list.append((tempSpectra[:,[0]]))\n",
    "    flux_list.append(tempSpectra[:,[1]])"
   ]
  },
  {
   "cell_type": "code",
   "execution_count": 12,
   "metadata": {},
   "outputs": [],
   "source": [
    "np_flux_list = np.array(flux_list)"
   ]
  },
  {
   "cell_type": "code",
   "execution_count": 14,
   "metadata": {},
   "outputs": [],
   "source": [
    "import sys"
   ]
  },
  {
   "cell_type": "code",
   "execution_count": 16,
   "metadata": {},
   "outputs": [
    {
     "data": {
      "text/plain": [
       "158200"
      ]
     },
     "execution_count": 16,
     "metadata": {},
     "output_type": "execute_result"
    }
   ],
   "source": [
    "sys.getsizeof(flux_list)"
   ]
  },
  {
   "cell_type": "code",
   "execution_count": null,
   "metadata": {},
   "outputs": [],
   "source": [
    "# wavelength_list[0]"
   ]
  },
  {
   "cell_type": "code",
   "execution_count": 8,
   "metadata": {},
   "outputs": [
    {
     "data": {
      "text/plain": [
       "20"
      ]
     },
     "execution_count": 8,
     "metadata": {},
     "output_type": "execute_result"
    }
   ],
   "source": [
    "import gc\n",
    "\n",
    "gc.collect()"
   ]
  },
  {
   "cell_type": "code",
   "execution_count": null,
   "metadata": {},
   "outputs": [],
   "source": [
    "import sys\n",
    "str(sys.getsizeof(labels_for_dataframe))"
   ]
  },
  {
   "cell_type": "code",
   "execution_count": null,
   "metadata": {},
   "outputs": [],
   "source": [
    "# del labels_for_dataframe\n",
    "gc.collect()"
   ]
  },
  {
   "cell_type": "code",
   "execution_count": 9,
   "metadata": {
    "collapsed": true
   },
   "outputs": [
    {
     "data": {
      "text/plain": [
       "['In',\n",
       " 'Out',\n",
       " '_',\n",
       " '_7',\n",
       " '_8',\n",
       " '__',\n",
       " '___',\n",
       " '__builtin__',\n",
       " '__builtins__',\n",
       " '__doc__',\n",
       " '__loader__',\n",
       " '__name__',\n",
       " '__package__',\n",
       " '__spec__',\n",
       " '_dh',\n",
       " '_i',\n",
       " '_i1',\n",
       " '_i2',\n",
       " '_i3',\n",
       " '_i4',\n",
       " '_i5',\n",
       " '_i6',\n",
       " '_i7',\n",
       " '_i8',\n",
       " '_i9',\n",
       " '_ih',\n",
       " '_ii',\n",
       " '_iii',\n",
       " '_oh',\n",
       " 'all_filenames_in_directory',\n",
       " 'exit',\n",
       " 'file_name',\n",
       " 'flux_list',\n",
       " 'gc',\n",
       " 'get_ipython',\n",
       " 'item',\n",
       " 'np',\n",
       " 'os',\n",
       " 'path',\n",
       " 'pd',\n",
       " 'quit',\n",
       " 'string_with_spectral_labels',\n",
       " 'tempSpectra']"
      ]
     },
     "execution_count": 9,
     "metadata": {},
     "output_type": "execute_result"
    }
   ],
   "source": [
    "dir()"
   ]
  },
  {
   "cell_type": "code",
   "execution_count": null,
   "metadata": {},
   "outputs": [],
   "source": [
    "str(sys.getsizeof(wavelength_list))"
   ]
  },
  {
   "cell_type": "code",
   "execution_count": 17,
   "metadata": {},
   "outputs": [
    {
     "data": {
      "text/plain": [
       "5258"
      ]
     },
     "execution_count": 17,
     "metadata": {},
     "output_type": "execute_result"
    }
   ],
   "source": [
    "gc.collect()"
   ]
  },
  {
   "cell_type": "code",
   "execution_count": null,
   "metadata": {},
   "outputs": [],
   "source": [
    "#we do not need the wavelength, so its commented out from previous files, this value is the same for all spectra\n",
    "#lets package these list of list as a numpy array for efficiency\n",
    "spectra = np.array(flux_list)\n",
    "# labels = np.array(labels_for_dataframe)"
   ]
  },
  {
   "cell_type": "code",
   "execution_count": null,
   "metadata": {},
   "outputs": [],
   "source": [
    "#now I wanna reduce the size of the flux/spectra values, currently its at 450399 pixel values\n",
    "#so im going to copy the flux/spectra to a new a array\n",
    "everyOtherPixel = spectra"
   ]
  },
  {
   "cell_type": "code",
   "execution_count": null,
   "metadata": {},
   "outputs": [],
   "source": [
    "spectra.shape"
   ]
  },
  {
   "cell_type": "code",
   "execution_count": null,
   "metadata": {},
   "outputs": [],
   "source": [
    "# spectra = spectra[:,::4]"
   ]
  },
  {
   "cell_type": "code",
   "execution_count": null,
   "metadata": {},
   "outputs": [],
   "source": [
    "def reduceSpectra(spectra_list,n):\n",
    "    spectra_list[:,::n]"
   ]
  },
  {
   "cell_type": "code",
   "execution_count": null,
   "metadata": {},
   "outputs": [],
   "source": [
    "n = 4"
   ]
  },
  {
   "cell_type": "code",
   "execution_count": null,
   "metadata": {},
   "outputs": [],
   "source": [
    "reduceSpectra(everyOtherPixel,4)"
   ]
  },
  {
   "cell_type": "code",
   "execution_count": null,
   "metadata": {},
   "outputs": [],
   "source": [
    "spectra.shape"
   ]
  },
  {
   "cell_type": "code",
   "execution_count": null,
   "metadata": {},
   "outputs": [],
   "source": [
    "spectra.reshape(19224, 112600)"
   ]
  },
  {
   "cell_type": "code",
   "execution_count": null,
   "metadata": {},
   "outputs": [],
   "source": [
    "spectra.shape"
   ]
  },
  {
   "cell_type": "code",
   "execution_count": 22,
   "metadata": {},
   "outputs": [],
   "source": [
    "np_flux_list = np_flux_list.reshape(np_flux_list.shape[:-1])"
   ]
  },
  {
   "cell_type": "code",
   "execution_count": 23,
   "metadata": {},
   "outputs": [
    {
     "data": {
      "text/plain": [
       "(19224, 450399)"
      ]
     },
     "execution_count": 23,
     "metadata": {},
     "output_type": "execute_result"
    }
   ],
   "source": [
    "np_flux_list.shape"
   ]
  },
  {
   "cell_type": "code",
   "execution_count": 24,
   "metadata": {},
   "outputs": [],
   "source": [
    "np.save(\"full_spectra.npy\",np_flux_list)\n",
    "# np.save(\"full_labels.npy\",labels)"
   ]
  },
  {
   "cell_type": "code",
   "execution_count": null,
   "metadata": {},
   "outputs": [],
   "source": [
    "# spectraDF[0][0:,1].astype(np.float32)"
   ]
  },
  {
   "cell_type": "code",
   "execution_count": null,
   "metadata": {},
   "outputs": [],
   "source": [
    "# #3000 spectra \n",
    "# big_data_array = np.zeros((5000,450399),dtype=np.float32)"
   ]
  },
  {
   "cell_type": "code",
   "execution_count": null,
   "metadata": {},
   "outputs": [],
   "source": [
    "# big_data_array"
   ]
  },
  {
   "cell_type": "code",
   "execution_count": null,
   "metadata": {},
   "outputs": [],
   "source": [
    "# np.save(\"full_training_set.npy\",big_data_array)\n",
    "# #np.load"
   ]
  }
 ],
 "metadata": {
  "kernelspec": {
   "display_name": "Python 3",
   "language": "python",
   "name": "python3"
  },
  "language_info": {
   "codemirror_mode": {
    "name": "ipython",
    "version": 3
   },
   "file_extension": ".py",
   "mimetype": "text/x-python",
   "name": "python",
   "nbconvert_exporter": "python",
   "pygments_lexer": "ipython3",
   "version": "3.7.9"
  }
 },
 "nbformat": 4,
 "nbformat_minor": 4
}
